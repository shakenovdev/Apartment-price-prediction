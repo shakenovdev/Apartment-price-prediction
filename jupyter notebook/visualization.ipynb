{
 "cells": [
  {
   "cell_type": "code",
   "execution_count": 1,
   "metadata": {},
   "outputs": [],
   "source": [
    "import pandas as pd\n",
    "import matplotlib.pyplot as plt\n",
    "\n",
    "%load_ext memory_profiler"
   ]
  },
  {
   "cell_type": "code",
   "execution_count": 2,
   "metadata": {
    "scrolled": false
   },
   "outputs": [
    {
     "data": {
      "text/plain": [
       "id                     0\n",
       "date                   0\n",
       "city                   0\n",
       "address                0\n",
       "lat                  488\n",
       "lon                  488\n",
       "price                  0\n",
       "room_count             0\n",
       "image_count            0\n",
       "comment_count          0\n",
       "is_owner               0\n",
       "is_urgent              0\n",
       "building_type       2505\n",
       "building_year         31\n",
       "floor                438\n",
       "building_floors      757\n",
       "area_total             0\n",
       "area_living        17742\n",
       "area_kitchen       11749\n",
       "renovation          1740\n",
       "toilet              3006\n",
       "balcony             4284\n",
       "balcony_glass       8498\n",
       "door                8954\n",
       "phone              12067\n",
       "inet_type          13220\n",
       "furniture           5369\n",
       "floor_type         10872\n",
       "security           10150\n",
       "priv_dorm           5790\n",
       "parking             8520\n",
       "room_height         6151\n",
       "complex             6960\n",
       "is_pledged             0\n",
       "dtype: int64"
      ]
     },
     "execution_count": 2,
     "metadata": {},
     "output_type": "execute_result"
    }
   ],
   "source": [
    "city = 'astana'\n",
    "date = '29.10.2017'\n",
    "url = f\"csv/{city}/{date}.csv\"\n",
    "data = pd.read_csv(url, sep=',', quotechar='|')\n",
    "data.isnull().sum()"
   ]
  },
  {
   "cell_type": "code",
   "execution_count": 3,
   "metadata": {},
   "outputs": [
    {
     "data": {
      "text/plain": [
       "id                   int64\n",
       "date                object\n",
       "city                object\n",
       "address             object\n",
       "lat                float64\n",
       "lon                float64\n",
       "price                int64\n",
       "room_count           int64\n",
       "image_count          int64\n",
       "comment_count        int64\n",
       "is_owner             int64\n",
       "is_urgent            int64\n",
       "building_type       object\n",
       "building_year      float64\n",
       "floor              float64\n",
       "building_floors    float64\n",
       "area_total         float64\n",
       "area_living        float64\n",
       "area_kitchen       float64\n",
       "renovation          object\n",
       "toilet              object\n",
       "balcony             object\n",
       "balcony_glass       object\n",
       "door                object\n",
       "phone               object\n",
       "inet_type           object\n",
       "furniture           object\n",
       "floor_type          object\n",
       "security            object\n",
       "priv_dorm           object\n",
       "parking             object\n",
       "room_height         object\n",
       "complex             object\n",
       "is_pledged           int64\n",
       "dtype: object"
      ]
     },
     "execution_count": 3,
     "metadata": {},
     "output_type": "execute_result"
    }
   ],
   "source": [
    "data.dtypes"
   ]
  },
  {
   "cell_type": "code",
   "execution_count": 4,
   "metadata": {},
   "outputs": [
    {
     "data": {
      "image/png": "[encoded data removed]",
      "text/plain": [
       "<matplotlib.figure.Figure at 0xa9ae990>"
      ]
     },
     "metadata": {},
     "output_type": "display_data"
    }
   ],
   "source": [
    "data['room_count'].value_counts()[:10].plot(kind='pie',autopct='%1.1f%%',shadow=True,explode=[0.1,0,0,0,0,0,0,0,0,0])\n",
    "plt.title('Distribution Of Top Genre\"s')\n",
    "fig=plt.gcf()\n",
    "fig.set_size_inches(7,7)\n",
    "plt.show()"
   ]
  },
  {
   "cell_type": "code",
   "execution_count": 6,
   "metadata": {},
   "outputs": [
    {
     "data": {
      "text/plain": [
       "Index(['id', 'date', 'city', 'address', 'lat', 'lon', 'price', 'room_count',\n",
       "       'image_count', 'comment_count', 'is_owner', 'is_urgent',\n",
       "       'building_type', 'building_year', 'floor', 'building_floors',\n",
       "       'area_total', 'area_living', 'area_kitchen', 'renovation', 'toilet',\n",
       "       'balcony', 'balcony_glass', 'door', 'phone', 'inet_type', 'furniture',\n",
       "       'floor_type', 'security', 'priv_dorm', 'parking', 'room_height',\n",
       "       'complex', 'is_pledged'],\n",
       "      dtype='object')"
      ]
     },
     "execution_count": 6,
     "metadata": {},
     "output_type": "execute_result"
    }
   ],
   "source": [
    "data.columns"
   ]
  },
  {
   "cell_type": "code",
   "execution_count": 7,
   "metadata": {},
   "outputs": [
    {
     "data": {
      "text/plain": [
       "(21483, 34)"
      ]
     },
     "execution_count": 7,
     "metadata": {},
     "output_type": "execute_result"
    }
   ],
   "source": [
    "data.shape"
   ]
  },
  {
   "cell_type": "code",
   "execution_count": 8,
   "metadata": {},
   "outputs": [
    {
     "name": "stdout",
     "output_type": "stream",
     "text": [
      "<class 'pandas.core.frame.DataFrame'>\n",
      "RangeIndex: 21483 entries, 0 to 21482\n",
      "Data columns (total 34 columns):\n",
      "id                 21483 non-null int64\n",
      "date               21483 non-null object\n",
      "city               21483 non-null object\n",
      "address            21483 non-null object\n",
      "lat                20995 non-null float64\n",
      "lon                20995 non-null float64\n",
      "price              21483 non-null int64\n",
      "room_count         21483 non-null int64\n",
      "image_count        21483 non-null int64\n",
      "comment_count      21483 non-null int64\n",
      "is_owner           21483 non-null int64\n",
      "is_urgent          21483 non-null int64\n",
      "building_type      18978 non-null object\n",
      "building_year      21452 non-null float64\n",
      "floor              21045 non-null float64\n",
      "building_floors    20726 non-null float64\n",
      "area_total         21483 non-null float64\n",
      "area_living        3741 non-null float64\n",
      "area_kitchen       9734 non-null float64\n",
      "renovation         19743 non-null object\n",
      "toilet             18477 non-null object\n",
      "balcony            17199 non-null object\n",
      "balcony_glass      12985 non-null object\n",
      "door               12529 non-null object\n",
      "phone              9416 non-null object\n",
      "inet_type          8263 non-null object\n",
      "furniture          16114 non-null object\n",
      "floor_type         10611 non-null object\n",
      "security           11333 non-null object\n",
      "priv_dorm          15693 non-null object\n",
      "parking            12963 non-null object\n",
      "room_height        15332 non-null object\n",
      "complex            14523 non-null object\n",
      "is_pledged         21483 non-null int64\n",
      "dtypes: float64(8), int64(8), object(18)\n",
      "memory usage: 4.1+ MB\n"
     ]
    }
   ],
   "source": [
    "data.info()"
   ]
  },
  {
   "cell_type": "code",
   "execution_count": null,
   "metadata": {},
   "outputs": [],
   "source": []
  }
 ],
 "metadata": {
  "kernelspec": {
   "display_name": "Python 3",
   "language": "python",
   "name": "python3"
  },
  "language_info": {
   "codemirror_mode": {
    "name": "ipython",
    "version": 3
   },
   "file_extension": ".py",
   "mimetype": "text/x-python",
   "name": "python",
   "nbconvert_exporter": "python",
   "pygments_lexer": "ipython3",
   "version": "3.6.2"
  }
 },
 "nbformat": 4,
 "nbformat_minor": 2
}
